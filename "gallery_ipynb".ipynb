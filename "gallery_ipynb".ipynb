{
  "nbformat": 4,
  "nbformat_minor": 0,
  "metadata": {
    "colab": {
      "name": "Копия блокнота \"gallery.ipynb\"",
      "provenance": [],
      "collapsed_sections": [],
      "include_colab_link": true
    },
    "kernelspec": {
      "name": "python3",
      "display_name": "Python 3"
    }
  },
  "cells": [
    {
      "cell_type": "markdown",
      "metadata": {
        "id": "view-in-github",
        "colab_type": "text"
      },
      "source": [
        "<a href=\"https://colab.research.google.com/github/raif410/BezLim/blob/main/%22gallery_ipynb%22.ipynb\" target=\"_parent\"><img src=\"https://colab.research.google.com/assets/colab-badge.svg\" alt=\"Open In Colab\"/></a>"
      ]
    },
    {
      "cell_type": "code",
      "metadata": {
        "id": "0JhI4pYJcz2U"
      },
      "source": [
        "# Библиотека для работы с данными\n",
        "import pandas as pd"
      ],
      "execution_count": null,
      "outputs": []
    },
    {
      "cell_type": "code",
      "metadata": {
        "id": "nFqz4W-VdCHO"
      },
      "source": [
        "df = pd.read_parquet('/datalab/month=2020-11.parquet')"
      ],
      "execution_count": null,
      "outputs": []
    },
    {
      "cell_type": "code",
      "metadata": {
        "id": "Mj36B5MBdJGX",
        "colab": {
          "base_uri": "https://localhost:8080/",
          "height": 204
        },
        "outputId": "a856d99c-c514-4d4c-8e98-087a0818dbc7"
      },
      "source": [
        "df.head()"
      ],
      "execution_count": null,
      "outputs": [
        {
          "output_type": "execute_result",
          "data": {
            "text/html": [
              "<div>\n",
              "<style scoped>\n",
              "    .dataframe tbody tr th:only-of-type {\n",
              "        vertical-align: middle;\n",
              "    }\n",
              "\n",
              "    .dataframe tbody tr th {\n",
              "        vertical-align: top;\n",
              "    }\n",
              "\n",
              "    .dataframe thead th {\n",
              "        text-align: right;\n",
              "    }\n",
              "</style>\n",
              "<table border=\"1\" class=\"dataframe\">\n",
              "  <thead>\n",
              "    <tr style=\"text-align: right;\">\n",
              "      <th></th>\n",
              "      <th>OidColumn</th>\n",
              "      <th>AddedOnDate</th>\n",
              "      <th>Mac</th>\n",
              "      <th>RadarId</th>\n",
              "      <th>Face</th>\n",
              "      <th>AdmTypeBit</th>\n",
              "      <th>AddedOnTick</th>\n",
              "      <th>FrameOid</th>\n",
              "    </tr>\n",
              "  </thead>\n",
              "  <tbody>\n",
              "    <tr>\n",
              "      <th>0</th>\n",
              "      <td>23984383430</td>\n",
              "      <td>2020-11-01</td>\n",
              "      <td>D0:22:BE:25:B1:C7</td>\n",
              "      <td>10.154.0.67</td>\n",
              "      <td>B</td>\n",
              "      <td>0</td>\n",
              "      <td>1604203747000</td>\n",
              "      <td>5080329804</td>\n",
              "    </tr>\n",
              "    <tr>\n",
              "      <th>1</th>\n",
              "      <td>23984383431</td>\n",
              "      <td>2020-11-01</td>\n",
              "      <td>D0:22:BE:25:B1:C7</td>\n",
              "      <td>10.154.0.67</td>\n",
              "      <td>B</td>\n",
              "      <td>0</td>\n",
              "      <td>1604203752000</td>\n",
              "      <td>5080329786</td>\n",
              "    </tr>\n",
              "    <tr>\n",
              "      <th>2</th>\n",
              "      <td>23984383432</td>\n",
              "      <td>2020-11-01</td>\n",
              "      <td>D0:22:BE:25:B1:C7</td>\n",
              "      <td>10.154.0.67</td>\n",
              "      <td>B</td>\n",
              "      <td>0</td>\n",
              "      <td>1604203757000</td>\n",
              "      <td>5080327026</td>\n",
              "    </tr>\n",
              "    <tr>\n",
              "      <th>3</th>\n",
              "      <td>23984383433</td>\n",
              "      <td>2020-11-01</td>\n",
              "      <td>D0:22:BE:25:B1:C7</td>\n",
              "      <td>10.154.0.67</td>\n",
              "      <td>B</td>\n",
              "      <td>0</td>\n",
              "      <td>1604203762000</td>\n",
              "      <td>5080327007</td>\n",
              "    </tr>\n",
              "    <tr>\n",
              "      <th>4</th>\n",
              "      <td>23984383434</td>\n",
              "      <td>2020-11-01</td>\n",
              "      <td>DA:A1:19:19:36:AA</td>\n",
              "      <td>10.154.0.67</td>\n",
              "      <td>B</td>\n",
              "      <td>1</td>\n",
              "      <td>1604203769000</td>\n",
              "      <td>5080326989</td>\n",
              "    </tr>\n",
              "  </tbody>\n",
              "</table>\n",
              "</div>"
            ],
            "text/plain": [
              "     OidColumn AddedOnDate  ...    AddedOnTick    FrameOid\n",
              "0  23984383430  2020-11-01  ...  1604203747000  5080329804\n",
              "1  23984383431  2020-11-01  ...  1604203752000  5080329786\n",
              "2  23984383432  2020-11-01  ...  1604203757000  5080327026\n",
              "3  23984383433  2020-11-01  ...  1604203762000  5080327007\n",
              "4  23984383434  2020-11-01  ...  1604203769000  5080326989\n",
              "\n",
              "[5 rows x 8 columns]"
            ]
          },
          "metadata": {},
          "execution_count": 15
        }
      ]
    },
    {
      "cell_type": "code",
      "metadata": {
        "id": "EXPP9rYfdXgp",
        "colab": {
          "base_uri": "https://localhost:8080/"
        },
        "outputId": "3907be7a-8533-4be4-9c80-4b28e475246a"
      },
      "source": [
        "#количество строк в датафрейме или так\n",
        "df.shape"
      ],
      "execution_count": null,
      "outputs": [
        {
          "output_type": "execute_result",
          "data": {
            "text/plain": [
              "(8032235, 8)"
            ]
          },
          "metadata": {},
          "execution_count": 16
        }
      ]
    },
    {
      "cell_type": "markdown",
      "metadata": {
        "id": "8-j3jZtDdigV"
      },
      "source": [
        "## Основные сведения о датафрейме"
      ]
    },
    {
      "cell_type": "code",
      "metadata": {
        "id": "VW3Hgjm6djWJ",
        "colab": {
          "base_uri": "https://localhost:8080/"
        },
        "outputId": "4b36fe0e-b12a-44ba-b5ef-a347f2b4bca5"
      },
      "source": [
        "df.info()"
      ],
      "execution_count": null,
      "outputs": [
        {
          "output_type": "stream",
          "text": [
            "<class 'pandas.core.frame.DataFrame'>\n",
            "RangeIndex: 8032235 entries, 0 to 8032234\n",
            "Data columns (total 8 columns):\n",
            " #   Column       Dtype         \n",
            "---  ------       -----         \n",
            " 0   OidColumn    int64         \n",
            " 1   AddedOnDate  datetime64[ns]\n",
            " 2   Mac          object        \n",
            " 3   RadarId      object        \n",
            " 4   Face         object        \n",
            " 5   AdmTypeBit   int32         \n",
            " 6   AddedOnTick  int64         \n",
            " 7   FrameOid     object        \n",
            "dtypes: datetime64[ns](1), int32(1), int64(2), object(4)\n",
            "memory usage: 459.6+ MB\n"
          ],
          "name": "stdout"
        }
      ]
    },
    {
      "cell_type": "code",
      "metadata": {
        "id": "Nlao3Ub2dmjw",
        "colab": {
          "base_uri": "https://localhost:8080/",
          "height": 296
        },
        "outputId": "7d23b7be-2b29-4a92-a3c1-b604b76a3917"
      },
      "source": [
        "# Статистика\n",
        "df.describe()"
      ],
      "execution_count": null,
      "outputs": [
        {
          "output_type": "execute_result",
          "data": {
            "text/html": [
              "<div>\n",
              "<style scoped>\n",
              "    .dataframe tbody tr th:only-of-type {\n",
              "        vertical-align: middle;\n",
              "    }\n",
              "\n",
              "    .dataframe tbody tr th {\n",
              "        vertical-align: top;\n",
              "    }\n",
              "\n",
              "    .dataframe thead th {\n",
              "        text-align: right;\n",
              "    }\n",
              "</style>\n",
              "<table border=\"1\" class=\"dataframe\">\n",
              "  <thead>\n",
              "    <tr style=\"text-align: right;\">\n",
              "      <th></th>\n",
              "      <th>OidColumn</th>\n",
              "      <th>AdmTypeBit</th>\n",
              "      <th>AddedOnTick</th>\n",
              "    </tr>\n",
              "  </thead>\n",
              "  <tbody>\n",
              "    <tr>\n",
              "      <th>count</th>\n",
              "      <td>8.032235e+06</td>\n",
              "      <td>8.032235e+06</td>\n",
              "      <td>8.032235e+06</td>\n",
              "    </tr>\n",
              "    <tr>\n",
              "      <th>mean</th>\n",
              "      <td>2.502347e+10</td>\n",
              "      <td>7.129056e-01</td>\n",
              "      <td>1.605462e+12</td>\n",
              "    </tr>\n",
              "    <tr>\n",
              "      <th>std</th>\n",
              "      <td>6.447664e+08</td>\n",
              "      <td>4.524061e-01</td>\n",
              "      <td>7.445147e+08</td>\n",
              "    </tr>\n",
              "    <tr>\n",
              "      <th>min</th>\n",
              "      <td>2.397833e+10</td>\n",
              "      <td>0.000000e+00</td>\n",
              "      <td>1.604189e+12</td>\n",
              "    </tr>\n",
              "    <tr>\n",
              "      <th>25%</th>\n",
              "      <td>2.446632e+10</td>\n",
              "      <td>0.000000e+00</td>\n",
              "      <td>1.604815e+12</td>\n",
              "    </tr>\n",
              "    <tr>\n",
              "      <th>50%</th>\n",
              "      <td>2.497027e+10</td>\n",
              "      <td>1.000000e+00</td>\n",
              "      <td>1.605444e+12</td>\n",
              "    </tr>\n",
              "    <tr>\n",
              "      <th>75%</th>\n",
              "      <td>2.557836e+10</td>\n",
              "      <td>1.000000e+00</td>\n",
              "      <td>1.606120e+12</td>\n",
              "    </tr>\n",
              "    <tr>\n",
              "      <th>max</th>\n",
              "      <td>2.620730e+10</td>\n",
              "      <td>1.000000e+00</td>\n",
              "      <td>1.606781e+12</td>\n",
              "    </tr>\n",
              "  </tbody>\n",
              "</table>\n",
              "</div>"
            ],
            "text/plain": [
              "          OidColumn    AdmTypeBit   AddedOnTick\n",
              "count  8.032235e+06  8.032235e+06  8.032235e+06\n",
              "mean   2.502347e+10  7.129056e-01  1.605462e+12\n",
              "std    6.447664e+08  4.524061e-01  7.445147e+08\n",
              "min    2.397833e+10  0.000000e+00  1.604189e+12\n",
              "25%    2.446632e+10  0.000000e+00  1.604815e+12\n",
              "50%    2.497027e+10  1.000000e+00  1.605444e+12\n",
              "75%    2.557836e+10  1.000000e+00  1.606120e+12\n",
              "max    2.620730e+10  1.000000e+00  1.606781e+12"
            ]
          },
          "metadata": {},
          "execution_count": 20
        }
      ]
    },
    {
      "cell_type": "code",
      "metadata": {
        "id": "D87aYm8Rdp2e",
        "colab": {
          "base_uri": "https://localhost:8080/",
          "height": 68
        },
        "outputId": "65da2f9d-f70a-4e40-f96d-6bb655862916"
      },
      "source": [
        "# Список колонок\n",
        "df.columns"
      ],
      "execution_count": null,
      "outputs": [
        {
          "output_type": "execute_result",
          "data": {
            "text/plain": [
              "Index(['PassengerId', 'Survived', 'Pclass', 'Name', 'Sex', 'Age', 'SibSp',\n",
              "       'Parch', 'Ticket', 'Fare', 'Cabin', 'Embarked'],\n",
              "      dtype='object')"
            ]
          },
          "metadata": {
            "tags": []
          },
          "execution_count": 46
        }
      ]
    },
    {
      "cell_type": "code",
      "metadata": {
        "id": "iYr2y24htAWs"
      },
      "source": [
        "## Метод unique позволяет получить список значений (уникальных) для столбца\n",
        "## примените его к Embarked"
      ],
      "execution_count": null,
      "outputs": []
    },
    {
      "cell_type": "markdown",
      "metadata": {
        "id": "e0rAddU9hgVc"
      },
      "source": [
        "## Профильтруем"
      ]
    },
    {
      "cell_type": "code",
      "metadata": {
        "id": "uWHuGVUkho2j",
        "colab": {
          "base_uri": "https://localhost:8080/",
          "height": 68
        },
        "outputId": "6b1b71f9-2fc6-4262-999e-3929437a581f"
      },
      "source": [
        "df_filtered.columns"
      ],
      "execution_count": null,
      "outputs": [
        {
          "output_type": "execute_result",
          "data": {
            "text/plain": [
              "Index(['PassengerId', 'Survived', 'Pclass', 'Sex', 'Fare', 'Age_rep',\n",
              "       'Embarked_rep', 'is_male'],\n",
              "      dtype='object')"
            ]
          },
          "metadata": {
            "tags": []
          },
          "execution_count": 75
        }
      ]
    },
    {
      "cell_type": "code",
      "metadata": {
        "id": "xgvqPDIWheZs"
      },
      "source": [
        "df_filtered = df[['FrameOid', 'Mac', 'AdmTypeBit', 'AddedOnTick', 'OTS']]"
      ],
      "execution_count": null,
      "outputs": []
    },
    {
      "cell_type": "code",
      "metadata": {
        "id": "zn5l-mLAhvQZ",
        "colab": {
          "base_uri": "https://localhost:8080/",
          "height": 204
        },
        "outputId": "6f368ba2-cca1-4c37-b494-f04dde279bed"
      },
      "source": [
        "df_filtered.head()"
      ],
      "execution_count": null,
      "outputs": [
        {
          "output_type": "execute_result",
          "data": {
            "text/html": [
              "<div>\n",
              "<style scoped>\n",
              "    .dataframe tbody tr th:only-of-type {\n",
              "        vertical-align: middle;\n",
              "    }\n",
              "\n",
              "    .dataframe tbody tr th {\n",
              "        vertical-align: top;\n",
              "    }\n",
              "\n",
              "    .dataframe thead th {\n",
              "        text-align: right;\n",
              "    }\n",
              "</style>\n",
              "<table border=\"1\" class=\"dataframe\">\n",
              "  <thead>\n",
              "    <tr style=\"text-align: right;\">\n",
              "      <th></th>\n",
              "      <th>PassengerId</th>\n",
              "      <th>Survived</th>\n",
              "      <th>Pclass</th>\n",
              "      <th>Fare</th>\n",
              "      <th>Age_rep</th>\n",
              "      <th>Embarked_rep</th>\n",
              "      <th>is_male</th>\n",
              "    </tr>\n",
              "  </thead>\n",
              "  <tbody>\n",
              "    <tr>\n",
              "      <th>0</th>\n",
              "      <td>1</td>\n",
              "      <td>0</td>\n",
              "      <td>3</td>\n",
              "      <td>7.2500</td>\n",
              "      <td>22.0</td>\n",
              "      <td>S</td>\n",
              "      <td>True</td>\n",
              "    </tr>\n",
              "    <tr>\n",
              "      <th>1</th>\n",
              "      <td>2</td>\n",
              "      <td>1</td>\n",
              "      <td>1</td>\n",
              "      <td>71.2833</td>\n",
              "      <td>38.0</td>\n",
              "      <td>C</td>\n",
              "      <td>False</td>\n",
              "    </tr>\n",
              "    <tr>\n",
              "      <th>2</th>\n",
              "      <td>3</td>\n",
              "      <td>1</td>\n",
              "      <td>3</td>\n",
              "      <td>7.9250</td>\n",
              "      <td>26.0</td>\n",
              "      <td>S</td>\n",
              "      <td>False</td>\n",
              "    </tr>\n",
              "    <tr>\n",
              "      <th>3</th>\n",
              "      <td>4</td>\n",
              "      <td>1</td>\n",
              "      <td>1</td>\n",
              "      <td>53.1000</td>\n",
              "      <td>35.0</td>\n",
              "      <td>S</td>\n",
              "      <td>False</td>\n",
              "    </tr>\n",
              "    <tr>\n",
              "      <th>4</th>\n",
              "      <td>5</td>\n",
              "      <td>0</td>\n",
              "      <td>3</td>\n",
              "      <td>8.0500</td>\n",
              "      <td>35.0</td>\n",
              "      <td>S</td>\n",
              "      <td>True</td>\n",
              "    </tr>\n",
              "  </tbody>\n",
              "</table>\n",
              "</div>"
            ],
            "text/plain": [
              "   PassengerId  Survived  Pclass     Fare  Age_rep Embarked_rep  is_male\n",
              "0            1         0       3   7.2500     22.0            S     True\n",
              "1            2         1       1  71.2833     38.0            C    False\n",
              "2            3         1       3   7.9250     26.0            S    False\n",
              "3            4         1       1  53.1000     35.0            S    False\n",
              "4            5         0       3   8.0500     35.0            S     True"
            ]
          },
          "metadata": {
            "tags": []
          },
          "execution_count": 77
        }
      ]
    },
    {
      "cell_type": "markdown",
      "metadata": {
        "id": "ssHZv5yZiQKx"
      },
      "source": [
        "## Осталось заменить Embarked_rep на цифры. Используем принцип one_hot"
      ]
    },
    {
      "cell_type": "code",
      "metadata": {
        "id": "78IUwO_Mhw9_"
      },
      "source": [
        "df_filtered = pd.get_dummies(df_filtered, ['Embarked_rep'])"
      ],
      "execution_count": null,
      "outputs": []
    },
    {
      "cell_type": "code",
      "metadata": {
        "id": "3d09Nq4siZsV",
        "colab": {
          "base_uri": "https://localhost:8080/",
          "height": 204
        },
        "outputId": "6cf804f6-938d-4078-98be-c4155d3f75ca"
      },
      "source": [
        "df_filtered.head()"
      ],
      "execution_count": null,
      "outputs": [
        {
          "output_type": "execute_result",
          "data": {
            "text/html": [
              "<div>\n",
              "<style scoped>\n",
              "    .dataframe tbody tr th:only-of-type {\n",
              "        vertical-align: middle;\n",
              "    }\n",
              "\n",
              "    .dataframe tbody tr th {\n",
              "        vertical-align: top;\n",
              "    }\n",
              "\n",
              "    .dataframe thead th {\n",
              "        text-align: right;\n",
              "    }\n",
              "</style>\n",
              "<table border=\"1\" class=\"dataframe\">\n",
              "  <thead>\n",
              "    <tr style=\"text-align: right;\">\n",
              "      <th></th>\n",
              "      <th>PassengerId</th>\n",
              "      <th>Survived</th>\n",
              "      <th>Pclass</th>\n",
              "      <th>Fare</th>\n",
              "      <th>Age_rep</th>\n",
              "      <th>is_male</th>\n",
              "      <th>Embarked_rep_C</th>\n",
              "      <th>Embarked_rep_Q</th>\n",
              "      <th>Embarked_rep_S</th>\n",
              "    </tr>\n",
              "  </thead>\n",
              "  <tbody>\n",
              "    <tr>\n",
              "      <th>0</th>\n",
              "      <td>1</td>\n",
              "      <td>0</td>\n",
              "      <td>3</td>\n",
              "      <td>7.2500</td>\n",
              "      <td>22.0</td>\n",
              "      <td>True</td>\n",
              "      <td>0</td>\n",
              "      <td>0</td>\n",
              "      <td>1</td>\n",
              "    </tr>\n",
              "    <tr>\n",
              "      <th>1</th>\n",
              "      <td>2</td>\n",
              "      <td>1</td>\n",
              "      <td>1</td>\n",
              "      <td>71.2833</td>\n",
              "      <td>38.0</td>\n",
              "      <td>False</td>\n",
              "      <td>1</td>\n",
              "      <td>0</td>\n",
              "      <td>0</td>\n",
              "    </tr>\n",
              "    <tr>\n",
              "      <th>2</th>\n",
              "      <td>3</td>\n",
              "      <td>1</td>\n",
              "      <td>3</td>\n",
              "      <td>7.9250</td>\n",
              "      <td>26.0</td>\n",
              "      <td>False</td>\n",
              "      <td>0</td>\n",
              "      <td>0</td>\n",
              "      <td>1</td>\n",
              "    </tr>\n",
              "    <tr>\n",
              "      <th>3</th>\n",
              "      <td>4</td>\n",
              "      <td>1</td>\n",
              "      <td>1</td>\n",
              "      <td>53.1000</td>\n",
              "      <td>35.0</td>\n",
              "      <td>False</td>\n",
              "      <td>0</td>\n",
              "      <td>0</td>\n",
              "      <td>1</td>\n",
              "    </tr>\n",
              "    <tr>\n",
              "      <th>4</th>\n",
              "      <td>5</td>\n",
              "      <td>0</td>\n",
              "      <td>3</td>\n",
              "      <td>8.0500</td>\n",
              "      <td>35.0</td>\n",
              "      <td>True</td>\n",
              "      <td>0</td>\n",
              "      <td>0</td>\n",
              "      <td>1</td>\n",
              "    </tr>\n",
              "  </tbody>\n",
              "</table>\n",
              "</div>"
            ],
            "text/plain": [
              "   PassengerId  Survived  ...  Embarked_rep_Q  Embarked_rep_S\n",
              "0            1         0  ...               0               1\n",
              "1            2         1  ...               0               0\n",
              "2            3         1  ...               0               1\n",
              "3            4         1  ...               0               1\n",
              "4            5         0  ...               0               1\n",
              "\n",
              "[5 rows x 9 columns]"
            ]
          },
          "metadata": {
            "tags": []
          },
          "execution_count": 80
        }
      ]
    },
    {
      "cell_type": "markdown",
      "metadata": {
        "id": "dTDR71-rilfX"
      },
      "source": [
        "# Переходим к машинному обучению :-)"
      ]
    },
    {
      "cell_type": "code",
      "metadata": {
        "id": "z9QGNpPgihBR"
      },
      "source": [
        "from sklearn.model_selection import train_test_split\n",
        "from sklearn.preprocessing import StandardScaler\n",
        "\n",
        "from sklearn.linear_model import LinearRegression\n",
        "#from sklearn.linear_model import LogisticRegression\n",
        "#from sklearn.tree import DecisionTreeClassifier\n",
        "#from sklearn.svm import  SVC"
      ],
      "execution_count": null,
      "outputs": []
    },
    {
      "cell_type": "code",
      "metadata": {
        "id": "WGSx42GOi1vz"
      },
      "source": [
        "df_filtered.columns"
      ],
      "execution_count": null,
      "outputs": []
    },
    {
      "cell_type": "code",
      "metadata": {
        "id": "OKKystHsJs-q"
      },
      "source": [
        "X, y = df[['ID','crim','zn','indus','chas','nox','rm','age','dis','rad','tax','ptratio','black','lstat']], df['medv']"
      ],
      "execution_count": null,
      "outputs": []
    },
    {
      "cell_type": "code",
      "metadata": {
        "id": "8vYNbv13i-TL"
      },
      "source": [
        "# Разделяем данные на данные для обучения и проверки"
      ],
      "execution_count": null,
      "outputs": []
    },
    {
      "cell_type": "code",
      "metadata": {
        "id": "OQp2o41sWcyw"
      },
      "source": [
        "X_train, X_test, y_train, y_test = train_test_split(X, y, test_size=0.2)"
      ],
      "execution_count": null,
      "outputs": []
    },
    {
      "cell_type": "code",
      "metadata": {
        "id": "2thzk20KLLJP"
      },
      "source": [
        ""
      ],
      "execution_count": null,
      "outputs": []
    },
    {
      "cell_type": "code",
      "metadata": {
        "id": "dq9P5tc7jP45",
        "colab": {
          "base_uri": "https://localhost:8080/",
          "height": 203
        },
        "outputId": "1885fae7-0f52-4490-f7c2-d57e1ce694c5"
      },
      "source": [
        "X_train.head()"
      ],
      "execution_count": null,
      "outputs": [
        {
          "output_type": "execute_result",
          "data": {
            "text/html": [
              "<div>\n",
              "<style scoped>\n",
              "    .dataframe tbody tr th:only-of-type {\n",
              "        vertical-align: middle;\n",
              "    }\n",
              "\n",
              "    .dataframe tbody tr th {\n",
              "        vertical-align: top;\n",
              "    }\n",
              "\n",
              "    .dataframe thead th {\n",
              "        text-align: right;\n",
              "    }\n",
              "</style>\n",
              "<table border=\"1\" class=\"dataframe\">\n",
              "  <thead>\n",
              "    <tr style=\"text-align: right;\">\n",
              "      <th></th>\n",
              "      <th>ID</th>\n",
              "      <th>crim</th>\n",
              "      <th>zn</th>\n",
              "      <th>indus</th>\n",
              "      <th>chas</th>\n",
              "      <th>nox</th>\n",
              "      <th>rm</th>\n",
              "      <th>age</th>\n",
              "      <th>dis</th>\n",
              "      <th>rad</th>\n",
              "      <th>tax</th>\n",
              "      <th>ptratio</th>\n",
              "      <th>black</th>\n",
              "      <th>lstat</th>\n",
              "    </tr>\n",
              "  </thead>\n",
              "  <tbody>\n",
              "    <tr>\n",
              "      <th>163</th>\n",
              "      <td>237</td>\n",
              "      <td>0.52058</td>\n",
              "      <td>0.0</td>\n",
              "      <td>6.20</td>\n",
              "      <td>1</td>\n",
              "      <td>0.507</td>\n",
              "      <td>6.631</td>\n",
              "      <td>76.5</td>\n",
              "      <td>4.1480</td>\n",
              "      <td>8</td>\n",
              "      <td>307</td>\n",
              "      <td>17.4</td>\n",
              "      <td>388.45</td>\n",
              "      <td>9.54</td>\n",
              "    </tr>\n",
              "    <tr>\n",
              "      <th>269</th>\n",
              "      <td>416</td>\n",
              "      <td>18.08460</td>\n",
              "      <td>0.0</td>\n",
              "      <td>18.10</td>\n",
              "      <td>0</td>\n",
              "      <td>0.679</td>\n",
              "      <td>6.434</td>\n",
              "      <td>100.0</td>\n",
              "      <td>1.8347</td>\n",
              "      <td>24</td>\n",
              "      <td>666</td>\n",
              "      <td>20.2</td>\n",
              "      <td>27.25</td>\n",
              "      <td>29.05</td>\n",
              "    </tr>\n",
              "    <tr>\n",
              "      <th>230</th>\n",
              "      <td>348</td>\n",
              "      <td>0.01870</td>\n",
              "      <td>85.0</td>\n",
              "      <td>4.15</td>\n",
              "      <td>0</td>\n",
              "      <td>0.429</td>\n",
              "      <td>6.516</td>\n",
              "      <td>27.7</td>\n",
              "      <td>8.5353</td>\n",
              "      <td>4</td>\n",
              "      <td>351</td>\n",
              "      <td>17.9</td>\n",
              "      <td>392.43</td>\n",
              "      <td>6.36</td>\n",
              "    </tr>\n",
              "    <tr>\n",
              "      <th>29</th>\n",
              "      <td>48</td>\n",
              "      <td>0.22927</td>\n",
              "      <td>0.0</td>\n",
              "      <td>6.91</td>\n",
              "      <td>0</td>\n",
              "      <td>0.448</td>\n",
              "      <td>6.030</td>\n",
              "      <td>85.5</td>\n",
              "      <td>5.6894</td>\n",
              "      <td>3</td>\n",
              "      <td>233</td>\n",
              "      <td>17.9</td>\n",
              "      <td>392.74</td>\n",
              "      <td>18.80</td>\n",
              "    </tr>\n",
              "    <tr>\n",
              "      <th>211</th>\n",
              "      <td>317</td>\n",
              "      <td>0.31827</td>\n",
              "      <td>0.0</td>\n",
              "      <td>9.90</td>\n",
              "      <td>0</td>\n",
              "      <td>0.544</td>\n",
              "      <td>5.914</td>\n",
              "      <td>83.2</td>\n",
              "      <td>3.9986</td>\n",
              "      <td>4</td>\n",
              "      <td>304</td>\n",
              "      <td>18.4</td>\n",
              "      <td>390.70</td>\n",
              "      <td>18.33</td>\n",
              "    </tr>\n",
              "  </tbody>\n",
              "</table>\n",
              "</div>"
            ],
            "text/plain": [
              "      ID      crim    zn  indus  chas  ...  rad  tax  ptratio   black  lstat\n",
              "163  237   0.52058   0.0   6.20     1  ...    8  307     17.4  388.45   9.54\n",
              "269  416  18.08460   0.0  18.10     0  ...   24  666     20.2   27.25  29.05\n",
              "230  348   0.01870  85.0   4.15     0  ...    4  351     17.9  392.43   6.36\n",
              "29    48   0.22927   0.0   6.91     0  ...    3  233     17.9  392.74  18.80\n",
              "211  317   0.31827   0.0   9.90     0  ...    4  304     18.4  390.70  18.33\n",
              "\n",
              "[5 rows x 14 columns]"
            ]
          },
          "metadata": {},
          "execution_count": 110
        }
      ]
    },
    {
      "cell_type": "code",
      "metadata": {
        "id": "hdSbqdcBjTjv",
        "colab": {
          "base_uri": "https://localhost:8080/"
        },
        "outputId": "c825ea4a-b1e1-4462-b77c-119cf23ab2ef"
      },
      "source": [
        "y_train.head()"
      ],
      "execution_count": null,
      "outputs": [
        {
          "output_type": "execute_result",
          "data": {
            "text/plain": [
              "163    25.1\n",
              "269     7.2\n",
              "230    23.1\n",
              "29     16.6\n",
              "211    17.8\n",
              "Name: medv, dtype: float64"
            ]
          },
          "metadata": {},
          "execution_count": 111
        }
      ]
    },
    {
      "cell_type": "code",
      "metadata": {
        "id": "uxKhaakDjJxb"
      },
      "source": [
        "# Приводим данные к одному масштабу\n",
        "sc = StandardScaler()\n",
        "X_train = sc.fit_transform(X_train)\n",
        "X_test = sc.transform(X_test)"
      ],
      "execution_count": null,
      "outputs": []
    },
    {
      "cell_type": "code",
      "metadata": {
        "id": "XZYD_iF3jjCH",
        "colab": {
          "base_uri": "https://localhost:8080/"
        },
        "outputId": "6d510a81-9834-4843-f7da-2c474e30edb2"
      },
      "source": [
        "X_train"
      ],
      "execution_count": null,
      "outputs": [
        {
          "output_type": "execute_result",
          "data": {
            "text/plain": [
              "array([[-0.84700759, -0.30238877, -0.47795051, ...,  1.24205523,\n",
              "         0.44376794, -0.05529625],\n",
              "       [ 1.16027437,  0.86946713, -0.47795051, ...,  0.78760311,\n",
              "        -3.22246006,  1.02290424],\n",
              "       [ 1.49482137,  0.2941831 , -0.47795051, ...,  0.78760311,\n",
              "         0.39927178, -0.71121364],\n",
              "       ...,\n",
              "       [-0.38533274, -0.45765568,  3.67321269, ..., -0.66664368,\n",
              "         0.2973837 , -1.18864023],\n",
              "       [-0.10431326, -0.44640928,  0.83294313, ..., -0.84842452,\n",
              "         0.16319816, -0.20621529],\n",
              "       [-0.62620657, -0.16373513, -0.47795051, ..., -1.71188355,\n",
              "         0.42297208, -0.14526722]])"
            ]
          },
          "metadata": {},
          "execution_count": 94
        }
      ]
    },
    {
      "cell_type": "code",
      "metadata": {
        "id": "6xf4nxxhjYf2"
      },
      "source": [
        "X_train = pd.DataFrame(X_train, columns=X.columns)\n",
        "X_test = pd.DataFrame(X_test, columns=X.columns)"
      ],
      "execution_count": null,
      "outputs": []
    },
    {
      "cell_type": "code",
      "metadata": {
        "id": "tVWTQ7P7jZJp",
        "colab": {
          "base_uri": "https://localhost:8080/",
          "height": 223
        },
        "outputId": "91dcaf85-e9e1-4c88-bebb-447b209120f7"
      },
      "source": [
        "X_train.head()"
      ],
      "execution_count": null,
      "outputs": [
        {
          "output_type": "execute_result",
          "data": {
            "text/html": [
              "<div>\n",
              "<style scoped>\n",
              "    .dataframe tbody tr th:only-of-type {\n",
              "        vertical-align: middle;\n",
              "    }\n",
              "\n",
              "    .dataframe tbody tr th {\n",
              "        vertical-align: top;\n",
              "    }\n",
              "\n",
              "    .dataframe thead th {\n",
              "        text-align: right;\n",
              "    }\n",
              "</style>\n",
              "<table border=\"1\" class=\"dataframe\">\n",
              "  <thead>\n",
              "    <tr style=\"text-align: right;\">\n",
              "      <th></th>\n",
              "      <th>ID</th>\n",
              "      <th>crim</th>\n",
              "      <th>zn</th>\n",
              "      <th>indus</th>\n",
              "      <th>chas</th>\n",
              "      <th>nox</th>\n",
              "      <th>rm</th>\n",
              "      <th>age</th>\n",
              "      <th>dis</th>\n",
              "      <th>rad</th>\n",
              "      <th>tax</th>\n",
              "      <th>ptratio</th>\n",
              "      <th>black</th>\n",
              "      <th>lstat</th>\n",
              "    </tr>\n",
              "  </thead>\n",
              "  <tbody>\n",
              "    <tr>\n",
              "      <th>0</th>\n",
              "      <td>-0.847008</td>\n",
              "      <td>-0.302389</td>\n",
              "      <td>-0.477951</td>\n",
              "      <td>1.516854</td>\n",
              "      <td>-0.235702</td>\n",
              "      <td>0.544073</td>\n",
              "      <td>0.118783</td>\n",
              "      <td>1.037830</td>\n",
              "      <td>-0.711871</td>\n",
              "      <td>-0.663737</td>\n",
              "      <td>0.124090</td>\n",
              "      <td>1.242055</td>\n",
              "      <td>0.443768</td>\n",
              "      <td>-0.055296</td>\n",
              "    </tr>\n",
              "    <tr>\n",
              "      <th>1</th>\n",
              "      <td>1.160274</td>\n",
              "      <td>0.869467</td>\n",
              "      <td>-0.477951</td>\n",
              "      <td>0.966884</td>\n",
              "      <td>-0.235702</td>\n",
              "      <td>0.200067</td>\n",
              "      <td>0.825942</td>\n",
              "      <td>0.915596</td>\n",
              "      <td>-0.804866</td>\n",
              "      <td>1.604138</td>\n",
              "      <td>1.458160</td>\n",
              "      <td>0.787603</td>\n",
              "      <td>-3.222460</td>\n",
              "      <td>1.022904</td>\n",
              "    </tr>\n",
              "    <tr>\n",
              "      <th>2</th>\n",
              "      <td>1.494821</td>\n",
              "      <td>0.294183</td>\n",
              "      <td>-0.477951</td>\n",
              "      <td>0.966884</td>\n",
              "      <td>-0.235702</td>\n",
              "      <td>-0.247141</td>\n",
              "      <td>0.710174</td>\n",
              "      <td>0.218141</td>\n",
              "      <td>-0.172268</td>\n",
              "      <td>1.604138</td>\n",
              "      <td>1.458160</td>\n",
              "      <td>0.787603</td>\n",
              "      <td>0.399272</td>\n",
              "      <td>-0.711214</td>\n",
              "    </tr>\n",
              "    <tr>\n",
              "      <th>3</th>\n",
              "      <td>1.006383</td>\n",
              "      <td>0.518227</td>\n",
              "      <td>-0.477951</td>\n",
              "      <td>0.966884</td>\n",
              "      <td>-0.235702</td>\n",
              "      <td>0.311869</td>\n",
              "      <td>-0.870124</td>\n",
              "      <td>1.045020</td>\n",
              "      <td>-1.127143</td>\n",
              "      <td>1.604138</td>\n",
              "      <td>1.458160</td>\n",
              "      <td>0.787603</td>\n",
              "      <td>-0.511912</td>\n",
              "      <td>1.996622</td>\n",
              "    </tr>\n",
              "    <tr>\n",
              "      <th>4</th>\n",
              "      <td>-1.636538</td>\n",
              "      <td>-0.376798</td>\n",
              "      <td>-0.477951</td>\n",
              "      <td>-0.478418</td>\n",
              "      <td>-0.235702</td>\n",
              "      <td>-0.195540</td>\n",
              "      <td>-0.407054</td>\n",
              "      <td>-0.252821</td>\n",
              "      <td>0.527635</td>\n",
              "      <td>-0.663737</td>\n",
              "      <td>-0.633242</td>\n",
              "      <td>1.151165</td>\n",
              "      <td>0.443768</td>\n",
              "      <td>-0.635754</td>\n",
              "    </tr>\n",
              "  </tbody>\n",
              "</table>\n",
              "</div>"
            ],
            "text/plain": [
              "         ID      crim        zn  ...   ptratio     black     lstat\n",
              "0 -0.847008 -0.302389 -0.477951  ...  1.242055  0.443768 -0.055296\n",
              "1  1.160274  0.869467 -0.477951  ...  0.787603 -3.222460  1.022904\n",
              "2  1.494821  0.294183 -0.477951  ...  0.787603  0.399272 -0.711214\n",
              "3  1.006383  0.518227 -0.477951  ...  0.787603 -0.511912  1.996622\n",
              "4 -1.636538 -0.376798 -0.477951  ...  1.151165  0.443768 -0.635754\n",
              "\n",
              "[5 rows x 14 columns]"
            ]
          },
          "metadata": {},
          "execution_count": 96
        }
      ]
    },
    {
      "cell_type": "markdown",
      "metadata": {
        "id": "I6ETfk-gjoBp"
      },
      "source": [
        "## Обучаем наши модели"
      ]
    },
    {
      "cell_type": "code",
      "metadata": {
        "id": "KkdcWaJrjlaj"
      },
      "source": [
        "linear = LinearRegression()\n"
      ],
      "execution_count": null,
      "outputs": []
    },
    {
      "cell_type": "code",
      "metadata": {
        "id": "PBcicU_dj3IY",
        "colab": {
          "base_uri": "https://localhost:8080/"
        },
        "outputId": "60b50bd1-eb45-4800-9274-201b1595e460"
      },
      "source": [
        "linear.fit(X_train, y_train)"
      ],
      "execution_count": null,
      "outputs": [
        {
          "output_type": "execute_result",
          "data": {
            "text/plain": [
              "LinearRegression(copy_X=True, fit_intercept=True, n_jobs=None, normalize=False)"
            ]
          },
          "metadata": {},
          "execution_count": 119
        }
      ]
    },
    {
      "cell_type": "markdown",
      "metadata": {
        "id": "XUwnQg7_kCgf"
      },
      "source": [
        "## Оценим качество"
      ]
    },
    {
      "cell_type": "code",
      "metadata": {
        "id": "tOz7RCSRkAdx"
      },
      "source": [
        "from sklearn.metrics import mean_squared_error, r2_score, mean_absolute_error"
      ],
      "execution_count": null,
      "outputs": []
    },
    {
      "cell_type": "code",
      "metadata": {
        "id": "5NGOxOR6kIL7",
        "colab": {
          "base_uri": "https://localhost:8080/"
        },
        "outputId": "ad3c8264-5eb1-43f0-f35c-91fb2d825934"
      },
      "source": [
        "mean_squared_error(y_test, linear.predict(X_test))"
      ],
      "execution_count": null,
      "outputs": [
        {
          "output_type": "execute_result",
          "data": {
            "text/plain": [
              "33.50652996103344"
            ]
          },
          "metadata": {},
          "execution_count": 121
        }
      ]
    },
    {
      "cell_type": "code",
      "metadata": {
        "id": "phSuOcKMkS4p",
        "colab": {
          "base_uri": "https://localhost:8080/"
        },
        "outputId": "395f906d-4565-4b8f-9927-adad1315dbf3"
      },
      "source": [
        "r2_score(y_test, linear.predict(X_test))"
      ],
      "execution_count": null,
      "outputs": [
        {
          "output_type": "execute_result",
          "data": {
            "text/plain": [
              "0.6478023934249642"
            ]
          },
          "metadata": {},
          "execution_count": 122
        }
      ]
    },
    {
      "cell_type": "code",
      "metadata": {
        "id": "4l3v9XgCkV4V",
        "colab": {
          "base_uri": "https://localhost:8080/"
        },
        "outputId": "10586a09-62b3-4f24-ab92-de0bb4a1e058"
      },
      "source": [
        "mean_absolute_error(y_test, linear.predict(X_test))"
      ],
      "execution_count": null,
      "outputs": [
        {
          "output_type": "execute_result",
          "data": {
            "text/plain": [
              "4.03864498200475"
            ]
          },
          "metadata": {},
          "execution_count": 123
        }
      ]
    },
    {
      "cell_type": "code",
      "metadata": {
        "id": "Kp766Qmvke3x"
      },
      "source": [
        "## Посмотрим на результат"
      ],
      "execution_count": null,
      "outputs": []
    },
    {
      "cell_type": "code",
      "metadata": {
        "id": "xOR4eSdtkkcP",
        "colab": {
          "base_uri": "https://localhost:8080/"
        },
        "outputId": "ff7f5b3d-2e16-482a-8d3f-b207d81445a9"
      },
      "source": [
        "linear.predict(X_test)"
      ],
      "execution_count": null,
      "outputs": [
        {
          "output_type": "execute_result",
          "data": {
            "text/plain": [
              "array([18.00588237, 19.98319277, 23.2978199 ,  4.55880581, 13.88172126,\n",
              "       20.56897514, 34.16937594, 26.61503476, 20.89547447, 19.22677036,\n",
              "       20.01708185, 21.67723318, 23.38666544, 16.90564373, 21.90352388,\n",
              "       24.63950732, 16.48776624, -6.52665643, 32.25769902, 20.50202726,\n",
              "       14.15343847, 26.94896155, 22.01293779, 19.84741092, 31.05730797,\n",
              "       34.59319547, 15.06677822, 30.8650271 , 21.63182595, 26.73589999,\n",
              "       30.47994481, 20.65275661, 27.80669729, 13.93840134, 11.22573474,\n",
              "       23.85962129, 34.55516204, 19.69048339, 29.72201358, 25.35185053,\n",
              "       22.99447432, 30.31510517, 29.83260386, 21.18539102, 27.9734723 ,\n",
              "       36.60689838, 12.45467298, 24.63149026, 35.91323885, 21.46324249,\n",
              "       16.87946063, 25.28324987, 40.86076514, 27.8436082 , 31.01703721,\n",
              "       15.93123428,  2.74525955,  5.86429524,  5.25851244, 25.41724073,\n",
              "       27.49888725, 14.42852424, 17.27189765, 13.28165033, 15.23278568,\n",
              "       23.89747895, 26.93479993])"
            ]
          },
          "metadata": {},
          "execution_count": 128
        }
      ]
    },
    {
      "cell_type": "code",
      "metadata": {
        "colab": {
          "base_uri": "https://localhost:8080/"
        },
        "id": "mI7yRAPsfFv_",
        "outputId": "1bfbab12-b6d0-40fc-bc64-63eef03f6ceb"
      },
      "source": [
        "linear.predict(X_train)"
      ],
      "execution_count": null,
      "outputs": [
        {
          "output_type": "execute_result",
          "data": {
            "text/plain": [
              "array([30.53166102,  8.5264118 , 24.0225812 , 17.14201974, 16.30293033,\n",
              "       19.46361758, 16.34085558, 23.00425422, 12.98534468, 30.18389798,\n",
              "       43.83431475, 17.3177288 , 21.90558343, 23.05274034, 19.6985363 ,\n",
              "       33.4242603 , 38.68879962, 36.28226605, 12.78543473, 24.60107591,\n",
              "       38.9248541 , 23.52029933, 28.87455286, 33.53589385, 30.8583185 ,\n",
              "       18.88115313, 31.39193513, 25.69310781, 24.83896453, 25.55944929,\n",
              "       32.41722787, 23.2319438 , 30.00059498, 19.6573632 , 40.84165048,\n",
              "       20.98750197, 26.30464105, 25.29541555, 13.07536621, 15.64791135,\n",
              "       28.46786953, -1.33064407, 19.16298541, 22.0543234 , 23.7029502 ,\n",
              "       35.9943615 , 20.61481828, 27.82845038, 13.87916018, 16.40030387,\n",
              "       23.31427299, 17.75379075, 26.7476894 ,  5.66521108, 30.58265533,\n",
              "       24.63357051, 19.92266348, 14.17639859, 20.66486716,  2.26165335,\n",
              "       24.11149326, 21.40985882, 42.15930486, 19.42514441, 20.09910091,\n",
              "       24.74035325, 14.39220354, 24.97714444, 33.91087001, 31.18759077,\n",
              "       23.74950666, 23.49886126, 16.92758872, 26.08322058, 20.59659794,\n",
              "       17.16453126, 20.45236283, 17.8496368 , 19.99843825, 20.98949405,\n",
              "       20.62287176, 14.10927235, 23.5356855 , 18.53043953, 19.8690093 ,\n",
              "       13.9159882 , 27.2327211 , 17.79219566, 10.57933048, 19.52301679,\n",
              "        9.38062971, 32.25573714, 22.54031313, 29.56979705, 23.93554396,\n",
              "       30.95142609, 29.83035057, 25.91164066, 12.80359342, 29.23845063,\n",
              "       24.18363054, 13.41090379, 25.15748257, 28.64365589,  8.66344404,\n",
              "       26.75559381, 21.03508933, 30.61995809, 18.37946122, 32.44673394,\n",
              "       15.96837487, 22.91720014, 24.11336344, 20.47205472, 30.47836512,\n",
              "       40.48955112, 18.00650159, 26.93582197, 18.5074882 , 16.07253271,\n",
              "       26.73001778, 26.56213136, 27.00982017, 13.94185624, 32.2342732 ,\n",
              "       10.70571763, 11.50917128, 15.05685185, 22.72241944, 19.98735136,\n",
              "       21.18524566, 21.3566658 , 11.57367787, 28.17294709, 17.76826694,\n",
              "       29.50173269, 33.93338509, 11.19778569, 25.24737997, 19.32175514,\n",
              "       16.81919497,  8.04421047, 18.5912169 , 17.91941838, 16.70645734,\n",
              "       21.56939327, 30.83567868, 19.764475  , 29.74358981, 15.41807509,\n",
              "       17.54498064, 14.28105076, 22.62664301, 20.71688582, 18.82457679,\n",
              "       20.7338963 , 20.90905965,  4.48670007, 14.55253329, 25.91237666,\n",
              "       23.45486826, 35.05943269,  7.81426825, 27.38908219, 24.15901302,\n",
              "       16.19278506, 28.59872573, 23.59401973, 22.37404145, 10.65358175,\n",
              "       32.77279847, 21.55395162, 11.89351497, 18.62979046, 25.02601451,\n",
              "       25.57078319, 22.79326857, 20.62360376, 18.15681721, 11.55411797,\n",
              "       22.80893292, 39.03964179,  9.17420545, 32.55696411, 29.60800294,\n",
              "       33.62206539, 32.48065305, 26.11293842, 23.79647619, 18.37440473,\n",
              "       15.92601346, 24.88902095, 24.24300712, 14.37435914, 18.0420476 ,\n",
              "       25.14909325, 32.43421354, 38.24275627, 20.12876667, 29.7024401 ,\n",
              "       18.39090764, 17.83192582, 22.27474183, 20.29066122, 27.12251569,\n",
              "       29.34512972, 12.73321394, 21.51846039, 24.56360047, 17.79708195,\n",
              "       20.57754311, 13.11216691, 21.55400552, 11.82987709, 23.88461273,\n",
              "       16.48727903, 17.43147336, 32.61943493, 27.55417902, 20.61623638,\n",
              "       27.89732012, 15.64978899, 38.96375674, 27.77034965, 37.83083964,\n",
              "       34.32134259, 28.84369703, 26.08169655, 44.65561414, 19.38226978,\n",
              "       19.88636117, 21.89110647, 24.93793086, 24.58315216, 40.6246299 ,\n",
              "       24.12080011, 24.67268034, 21.55734355,  9.10870619, 24.71539486,\n",
              "       37.45791438, 30.94134301, 25.20537831, 25.65341201, 19.63351457,\n",
              "       18.39375156, 21.13452518,  1.93336357, 23.79558971, 38.97794858,\n",
              "       16.55814137, 22.99813637, 23.03392121, 27.38021711, 26.37047403,\n",
              "        5.88662464, 16.49145365, 34.38743842, 22.37103726, 26.38174131,\n",
              "       12.8994003 , 22.82112855, 22.98355372, 15.99219248, 21.39088652,\n",
              "       25.6694041 ])"
            ]
          },
          "metadata": {},
          "execution_count": 129
        }
      ]
    },
    {
      "cell_type": "code",
      "metadata": {
        "colab": {
          "base_uri": "https://localhost:8080/"
        },
        "id": "nUEQX1Tuf4Mw",
        "outputId": "7281b8cf-962d-4725-add8-f8d53931a69c"
      },
      "source": [
        "df['medv']"
      ],
      "execution_count": null,
      "outputs": [
        {
          "output_type": "execute_result",
          "data": {
            "text/plain": [
              "0      24.0\n",
              "1      21.6\n",
              "2      33.4\n",
              "3      36.2\n",
              "4      22.9\n",
              "       ... \n",
              "328    17.5\n",
              "329    22.4\n",
              "330    20.6\n",
              "331    23.9\n",
              "332    11.9\n",
              "Name: medv, Length: 333, dtype: float64"
            ]
          },
          "metadata": {},
          "execution_count": 130
        }
      ]
    }
  ]
}